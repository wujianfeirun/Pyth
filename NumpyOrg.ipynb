{
 "cells": [
  {
   "cell_type": "code",
   "execution_count": 1,
   "metadata": {},
   "outputs": [
    {
     "name": "stdout",
     "output_type": "stream",
     "text": [
      "hello world\n"
     ]
    }
   ],
   "source": [
    "print ('hello world')"
   ]
  },
  {
   "cell_type": "code",
   "execution_count": 6,
   "metadata": {},
   "outputs": [
    {
     "name": "stdout",
     "output_type": "stream",
     "text": [
      "[1 2 3 4]\n"
     ]
    },
    {
     "data": {
      "text/plain": [
       "dtype('int32')"
      ]
     },
     "execution_count": 6,
     "metadata": {},
     "output_type": "execute_result"
    }
   ],
   "source": [
    "import numpy\n",
    "numbers = numpy.array([1,2,3,4])\n",
    "print (numbers)\n",
    "numbers.dtype"
   ]
  },
  {
   "cell_type": "code",
   "execution_count": 15,
   "metadata": {},
   "outputs": [
    {
     "name": "stdout",
     "output_type": "stream",
     "text": [
      "6\n",
      "[ 9 10 11 12]\n",
      "[ 3  7 11]\n"
     ]
    }
   ],
   "source": [
    "import numpy\n",
    "dim2 = numpy.array([[1,2,3,4],[5,6,7,8],[9,10,11,12]])\n",
    "print (dim2[1,1])  \n",
    "print (dim2[2,:])   # :切片， 行\n",
    "print (dim2[:,2])   #列"
   ]
  },
  {
   "cell_type": "code",
   "execution_count": 21,
   "metadata": {},
   "outputs": [
    {
     "name": "stdout",
     "output_type": "stream",
     "text": [
      "[False False False  True]\n",
      "[3]\n"
     ]
    }
   ],
   "source": [
    "import numpy\n",
    "vector = numpy.array([0,1,2,3])\n",
    "vector == 3    #判断， 返回的是一个数组， dtype为bool\n",
    "eq = (vector == 3 )\n",
    "print (eq)\n",
    "print (vector[eq])\n"
   ]
  },
  {
   "cell_type": "code",
   "execution_count": 22,
   "metadata": {},
   "outputs": [
    {
     "name": "stdout",
     "output_type": "stream",
     "text": [
      "[False False False False]\n"
     ]
    }
   ],
   "source": [
    "import numpy\n",
    "vector = numpy.array([0,1,2,3])\n",
    "eq = (vector == 1 )&(vector == 3 ) # 且操作\n",
    "print (eq)"
   ]
  },
  {
   "cell_type": "code",
   "execution_count": 23,
   "metadata": {},
   "outputs": [
    {
     "name": "stdout",
     "output_type": "stream",
     "text": [
      "[False  True False  True]\n"
     ]
    }
   ],
   "source": [
    "import numpy\n",
    "vector = numpy.array([0,1,2,3])\n",
    "eq = (vector == 1 )|(vector == 3 )   # 或操作\n",
    "print (eq)"
   ]
  },
  {
   "cell_type": "code",
   "execution_count": 24,
   "metadata": {},
   "outputs": [
    {
     "name": "stdout",
     "output_type": "stream",
     "text": [
      "[0. 1. 2. 3.]\n"
     ]
    }
   ],
   "source": [
    "import numpy\n",
    "vector = numpy.array([0,1,2,3])\n",
    "vector = vector.astype(float)        # 类型转换\n",
    "print (vector)"
   ]
  },
  {
   "cell_type": "code",
   "execution_count": 26,
   "metadata": {},
   "outputs": [
    {
     "data": {
      "text/plain": [
       "array([15, 18, 21, 24])"
      ]
     },
     "execution_count": 26,
     "metadata": {},
     "output_type": "execute_result"
    }
   ],
   "source": [
    "import numpy\n",
    "dim2 = numpy.array([[1,2,3,4],\n",
    "                    [5,6,7,8],\n",
    "                    [9,10,11,12]])\n",
    "dim2.sum(axis=1)                     #按行求和\n",
    "dim2.sum(axis=0)                     #按列求和"
   ]
  },
  {
   "cell_type": "code",
   "execution_count": 29,
   "metadata": {},
   "outputs": [
    {
     "data": {
      "text/plain": [
       "array([[ 0,  1,  2,  3,  4],\n",
       "       [ 5,  6,  7,  8,  9],\n",
       "       [10, 11, 12, 13, 14]])"
      ]
     },
     "execution_count": 29,
     "metadata": {},
     "output_type": "execute_result"
    }
   ],
   "source": [
    "import numpy as np                  #别名\n",
    "np.arange(15).reshape(3,5)          #一维分割"
   ]
  },
  {
   "cell_type": "code",
   "execution_count": 32,
   "metadata": {},
   "outputs": [
    {
     "data": {
      "text/plain": [
       "array([[1., 1., 1., 1., 1.],\n",
       "       [1., 1., 1., 1., 1.],\n",
       "       [1., 1., 1., 1., 1.]])"
      ]
     },
     "execution_count": 32,
     "metadata": {},
     "output_type": "execute_result"
    }
   ],
   "source": [
    "import numpy as np                  #别名\n",
    "np.zeros((3,5))                     #初始化矩阵\n",
    "np.ones((3,5))                      #初始化矩阵"
   ]
  },
  {
   "cell_type": "code",
   "execution_count": 33,
   "metadata": {},
   "outputs": [
    {
     "data": {
      "text/plain": [
       "array([[0.75070324, 0.3481429 , 0.75535151],\n",
       "       [0.12811587, 0.9902591 , 0.27744937]])"
      ]
     },
     "execution_count": 33,
     "metadata": {},
     "output_type": "execute_result"
    }
   ],
   "source": [
    "import numpy as np \n",
    "np.random.random((2,3))             #随机值"
   ]
  },
  {
   "cell_type": "code",
   "execution_count": 35,
   "metadata": {},
   "outputs": [
    {
     "data": {
      "text/plain": [
       "array([ 0.,  5., 10.])"
      ]
     },
     "execution_count": 35,
     "metadata": {},
     "output_type": "execute_result"
    }
   ],
   "source": [
    "import numpy as np \n",
    "np.linspace(0,10,3)               #区间中取值"
   ]
  },
  {
   "cell_type": "code",
   "execution_count": 36,
   "metadata": {},
   "outputs": [
    {
     "name": "stdout",
     "output_type": "stream",
     "text": [
      "[ 9 18 27 36]\n"
     ]
    }
   ],
   "source": [
    "import numpy as np \n",
    "dima = np.array([10,20,30,40])\n",
    "dimb = np.array([1,2,3,4])        \n",
    "print (dima-dimb)"
   ]
  },
  {
   "cell_type": "code",
   "execution_count": 37,
   "metadata": {},
   "outputs": [
    {
     "name": "stdout",
     "output_type": "stream",
     "text": [
      "[11 22 33 44]\n"
     ]
    }
   ],
   "source": [
    "import numpy as np \n",
    "dima = np.array([10,20,30,40])\n",
    "dimb = np.array([1,2,3,4])        \n",
    "print (dima+dimb)"
   ]
  },
  {
   "cell_type": "code",
   "execution_count": 38,
   "metadata": {},
   "outputs": [
    {
     "name": "stdout",
     "output_type": "stream",
     "text": [
      "[ 10  40  90 160]\n"
     ]
    }
   ],
   "source": [
    "import numpy as np \n",
    "dima = np.array([10,20,30,40])\n",
    "dimb = np.array([1,2,3,4])        \n",
    "print (dima*dimb)                   #  *乘"
   ]
  },
  {
   "cell_type": "code",
   "execution_count": 39,
   "metadata": {},
   "outputs": [
    {
     "name": "stdout",
     "output_type": "stream",
     "text": [
      "300\n"
     ]
    }
   ],
   "source": [
    "import numpy as np \n",
    "dima = np.array([10,20,30,40])\n",
    "dimb = np.array([1,2,3,4])        \n",
    "print (dima.dot(dimb))              #  卷积"
   ]
  },
  {
   "cell_type": "code",
   "execution_count": 52,
   "metadata": {},
   "outputs": [
    {
     "name": "stdout",
     "output_type": "stream",
     "text": [
      "[[6. 9. 2. 4.]\n",
      " [2. 1. 6. 7.]]\n",
      "----------\n",
      "----------\n",
      "[[6. 9.]\n",
      " [2. 4.]\n",
      " [2. 1.]\n",
      " [6. 7.]]\n",
      "----------\n",
      "[[6. 2. 2. 6.]\n",
      " [9. 4. 1. 7.]]\n"
     ]
    }
   ],
   "source": [
    "import numpy as np \n",
    "a = np.floor(10*np.random.random((2,4)))\n",
    "print (a )\n",
    "print('----------')\n",
    "print (a.ravel())                   #  矩阵的多维变一维\n",
    "print('----------')\n",
    "a.shape = (4,-1)                    # 重构造， 4行 *列\n",
    "print (a)\n",
    "print('----------')\n",
    "print (a.T)                         # 转置"
   ]
  },
  {
   "cell_type": "code",
   "execution_count": 56,
   "metadata": {},
   "outputs": [
    {
     "name": "stdout",
     "output_type": "stream",
     "text": [
      "[[8. 0.]\n",
      " [6. 0.]]\n",
      "[[4. 8.]\n",
      " [3. 5.]]\n",
      "----------\n",
      "[[8. 0. 4. 8.]\n",
      " [6. 0. 3. 5.]]\n",
      "[[8. 0.]\n",
      " [6. 0.]\n",
      " [4. 8.]\n",
      " [3. 5.]]\n"
     ]
    }
   ],
   "source": [
    "import numpy as np \n",
    "a = np.floor(10*np.random.random((2,2)))\n",
    "b = np.floor(10*np.random.random((2,2)))\n",
    "print (a)\n",
    "print (b)\n",
    "print('----------')\n",
    "print(np.hstack((a,b)))             # 横向拼接\n",
    "print(np.vstack((a,b)))             # 纵向拼接"
   ]
  },
  {
   "cell_type": "code",
   "execution_count": 58,
   "metadata": {},
   "outputs": [
    {
     "name": "stdout",
     "output_type": "stream",
     "text": [
      "[[6. 3. 3. 8. 9. 5. 6. 4. 6. 4. 2. 9.]\n",
      " [9. 4. 5. 2. 8. 2. 7. 2. 2. 7. 6. 4.]]\n",
      "----------\n",
      "[array([[6., 3., 3., 8.],\n",
      "       [9., 4., 5., 2.]]), array([[9., 5., 6., 4.],\n",
      "       [8., 2., 7., 2.]]), array([[6., 4., 2., 9.],\n",
      "       [2., 7., 6., 4.]])]\n"
     ]
    }
   ],
   "source": [
    "import numpy as np \n",
    "a = np.floor(10*np.random.random((2,12)))\n",
    "print (a)\n",
    "print('----------')\n",
    "print(np.hsplit(a,3))                   # 横向分割"
   ]
  },
  {
   "cell_type": "code",
   "execution_count": 60,
   "metadata": {},
   "outputs": [
    {
     "name": "stdout",
     "output_type": "stream",
     "text": [
      "[[7. 1. 6. 9. 6. 3. 3. 4. 0. 2. 0. 6.]\n",
      " [1. 9. 1. 0. 4. 7. 3. 9. 8. 9. 6. 2.]]\n",
      "----------\n",
      "[array([[7., 1., 6.],\n",
      "       [1., 9., 1.]]), array([[9., 6.],\n",
      "       [0., 4.]]), array([[3., 3., 4., 0., 2., 0., 6.],\n",
      "       [7., 3., 9., 8., 9., 6., 2.]])]\n"
     ]
    }
   ],
   "source": [
    "import numpy as np \n",
    "a = np.floor(10*np.random.random((2,12)))\n",
    "print (a)\n",
    "print('----------')\n",
    "print(np.hsplit(a,(3,5)))                   # 横向分割"
   ]
  },
  {
   "cell_type": "code",
   "execution_count": 64,
   "metadata": {},
   "outputs": [
    {
     "name": "stdout",
     "output_type": "stream",
     "text": [
      "[[5. 4. 8. 5.]\n",
      " [8. 3. 0. 5.]]\n",
      "[[ 5.  4.]\n",
      " [ 8.  5.]\n",
      " [ 8. 10.]\n",
      " [ 0.  5.]]\n",
      "----------------------\n",
      "[[ 5.  4.]\n",
      " [ 8.  5.]\n",
      " [ 8. 10.]\n",
      " [ 0.  5.]]\n"
     ]
    }
   ],
   "source": [
    "import numpy as np \n",
    "a = np.floor(10*np.random.random((2,4)))\n",
    "print (a)\n",
    "print ('----------------------')\n",
    "b = a                                # = 是指向相同的地址(数据组织结构一样)，共用一份数据     \n",
    "b[1,1]=10\n",
    "b.shape = 4,2\n",
    "print (a)\n",
    "print ('----------------------')\n",
    "print (b)"
   ]
  },
  {
   "cell_type": "code",
   "execution_count": 65,
   "metadata": {},
   "outputs": [
    {
     "name": "stdout",
     "output_type": "stream",
     "text": [
      "[[2. 5. 2. 2.]\n",
      " [8. 2. 2. 6.]]\n",
      "[[ 2.  5.  2.  2.]\n",
      " [ 8. 10.  2.  6.]]\n",
      "----------------------\n",
      "[[ 2.  5.]\n",
      " [ 2.  2.]\n",
      " [ 8. 10.]\n",
      " [ 2.  6.]]\n"
     ]
    }
   ],
   "source": [
    "import numpy as np \n",
    "a = np.floor(10*np.random.random((2,4)))\n",
    "print (a)\n",
    "print ('----------------------')\n",
    "b = a.view()                                # view 是指向不同地址(数据组织结构不一样)，共用一份数据     \n",
    "b[1,1]=10\n",
    "b.shape = 4,2\n",
    "print (a)\n",
    "print ('----------------------')\n",
    "print (b)\n"
   ]
  },
  {
   "cell_type": "code",
   "execution_count": 66,
   "metadata": {},
   "outputs": [
    {
     "name": "stdout",
     "output_type": "stream",
     "text": [
      "[[7. 1. 8. 1.]\n",
      " [0. 5. 8. 3.]]\n",
      "[[7. 1. 8. 1.]\n",
      " [0. 5. 8. 3.]]\n",
      "----------------------\n",
      "[[ 7.  1.]\n",
      " [ 8.  1.]\n",
      " [ 0. 10.]\n",
      " [ 8.  3.]]\n"
     ]
    }
   ],
   "source": [
    "import numpy as np \n",
    "a = np.floor(10*np.random.random((2,4)))\n",
    "print (a)\n",
    "print ('----------------------')\n",
    "b = a.copy()                                # copy 是指向不同地址(数据组织结构不一样)，不同的数据     \n",
    "b[1,1]=10\n",
    "b.shape = 4,2\n",
    "print (a)\n",
    "print ('----------------------')\n",
    "print (b)"
   ]
  },
  {
   "cell_type": "code",
   "execution_count": 70,
   "metadata": {},
   "outputs": [
    {
     "name": "stdout",
     "output_type": "stream",
     "text": [
      "[[3. 9. 5. 8.]\n",
      " [4. 3. 3. 2.]\n",
      " [8. 9. 6. 0.]\n",
      " [7. 6. 8. 6.]\n",
      " [8. 2. 2. 6.]]\n",
      "----------------------\n",
      "[2 0 3 0]\n",
      "----------------------\n",
      "range(0, 5)\n",
      "[8. 9. 8. 8.]\n"
     ]
    }
   ],
   "source": [
    "import numpy as np \n",
    "a = np.floor(10*np.random.random((5,4)))\n",
    "print (a)\n",
    "print ('----------------------')\n",
    "ind = a.argmax(axis=0)                      #列的最大值\n",
    "print (ind)\n",
    "print ('----------------------')\n",
    "data_max = a[ind,range(a.shape[1])]\n",
    "print (range(a.shape[0]))\n",
    "print (data_max)"
   ]
  },
  {
   "cell_type": "code",
   "execution_count": 72,
   "metadata": {},
   "outputs": [
    {
     "name": "stdout",
     "output_type": "stream",
     "text": [
      "[[0. 8. 7. 0.]\n",
      " [9. 5. 8. 4.]\n",
      " [5. 6. 5. 8.]\n",
      " [7. 5. 0. 0.]\n",
      " [8. 5. 5. 0.]]\n",
      "----------------------\n",
      "[1 0 3 0 0]\n",
      "----------------------\n",
      "[8. 9. 8. 7. 8.]\n"
     ]
    }
   ],
   "source": [
    "import numpy as np \n",
    "a = np.floor(10*np.random.random((5,4)))\n",
    "print (a)\n",
    "print ('----------------------')\n",
    "ind = a.argmax(axis=1)                      #行的最大值\n",
    "print (ind)\n",
    "print ('----------------------')\n",
    "data_max = a[range(a.shape[0]),ind]\n",
    "print (data_max)"
   ]
  },
  {
   "cell_type": "code",
   "execution_count": 73,
   "metadata": {},
   "outputs": [
    {
     "name": "stdout",
     "output_type": "stream",
     "text": [
      "[ 0 10 20 30]\n",
      "[[ 0 10 20 30  0 10 20 30  0 10 20 30]\n",
      " [ 0 10 20 30  0 10 20 30  0 10 20 30]\n",
      " [ 0 10 20 30  0 10 20 30  0 10 20 30]]\n"
     ]
    }
   ],
   "source": [
    "import numpy as np \n",
    "a = np.arange(0,40,10)\n",
    "print (a)\n",
    "b = np.tile(a,(3,3))                     #  扩展\n",
    "print (b)            "
   ]
  },
  {
   "cell_type": "code",
   "execution_count": 77,
   "metadata": {},
   "outputs": [
    {
     "name": "stdout",
     "output_type": "stream",
     "text": [
      "[[4 3 5]\n",
      " [1 2 1]]\n",
      "---------------\n",
      "[[3 4 5]\n",
      " [1 1 2]]\n",
      "[2 3 1 0]\n",
      "---------------\n",
      "[1 2 3 4]\n"
     ]
    }
   ],
   "source": [
    "import numpy as np \n",
    "a = np.array([[4,3,5],[1,2,1]])\n",
    "print (a)\n",
    "print ('---------------')\n",
    "b = np.sort(a,axis=1)                   # 按行排序\n",
    "print (b)\n",
    "\n",
    "a = np.array([4,3,1,2])\n",
    "j = np.argsort(a)                       # 下标排序\n",
    "print (j)\n",
    "print ('---------------')\n",
    "print (a[j])\n"
   ]
  },
  {
   "cell_type": "code",
   "execution_count": null,
   "metadata": {},
   "outputs": [],
   "source": []
  }
 ],
 "metadata": {
  "kernelspec": {
   "display_name": "Python 3",
   "language": "python",
   "name": "python3"
  },
  "language_info": {
   "codemirror_mode": {
    "name": "ipython",
    "version": 3
   },
   "file_extension": ".py",
   "mimetype": "text/x-python",
   "name": "python",
   "nbconvert_exporter": "python",
   "pygments_lexer": "ipython3",
   "version": "3.6.5"
  }
 },
 "nbformat": 4,
 "nbformat_minor": 2
}
